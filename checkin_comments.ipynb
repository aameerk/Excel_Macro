import pandas as pd
from docx import Document
from docx.shared import Pt, RGBColor
import os
import re
from datetime import datetime

# Load the Excel file
file_path = ''  # Update with your file path

# Specify the sheet name
sheet_name = 'testsheet'  # Replace with your sheet name

# Read the Excel file and select the specified sheet
df = pd.read_excel(file_path, sheet_name=sheet_name)

# Replace NaN values with 'No data'
df.fillna('No data', inplace=True)

# Ensure 'Reference Number' is treated as a string with leading zeros
df['Reference Number'] = df['Reference Number'].apply(lambda x: str(int(x)).zfill(8) if isinstance(x, float) else str(x).zfill(8))

# Create a directory to save the Word documents
output_dir = '/Users/aameerkhan/Desktop/output_docs'  # Change to your desired path
os.makedirs(output_dir, exist_ok=True)

# Prepare to record skipped reference numbers
skipped_refs = []

# Get unique reference numbers
unique_refs = df['Reference Number'].unique()

# Function to convert Excel date to a readable format with time
def format_date_with_time(date_value):
    if isinstance(date_value, (pd.Timestamp, datetime)):
        return date_value.strftime('%Y-%m-%d %H:%M:%S')
    return date_value

# Function to format time from the string "YYYYMMDD HHMMSS" to "YYYY-MM-DD HH:MM:SS"
def format_time(time_value):
    try:
        if isinstance(time_value, str) and len(time_value) == 15:
            # Split the value into date and time
            date_str = time_value[:8]  # YYYYMMDD
            time_str = time_value[9:]  # HHMMSS
            formatted_date_time = datetime.strptime(date_str + time_str, '%Y%m%d%H%M%S')
            return formatted_date_time.strftime('%Y-%m-%d %H:%M:%S')
    except ValueError as e:
        print(f"Error formatting time {time_value}: {e}")
    return time_value

# Function to remove numbering from text
def remove_numbering(text):
    # Use regex to find and remove list numbers (e.g., "1.", "2.", etc.)
    return re.sub(r'^\d+\.\s*', '', text, flags=re.MULTILINE)

# Iterate over each unique reference number
for ref in unique_refs:
    # Filter the DataFrame for the current reference number
    df_ref = df[df['Reference Number'] == ref]

    # Check if df_ref is empty
    if df_ref.empty:
        print(f"No data found for Reference Number: {ref}")
        continue

    # Check if either 'Check-In Comments' or 'Check-In Actions' has non-zero values
    if not df_ref[['Check-In Comments', 'Check-In Actions']].apply(lambda x: x.astype(str).str.strip()).eq('0').all(axis=None):
        # Create a new Word document
        doc = Document()

        # Extract employee and manager information
        first_name = df_ref.iloc[0]['First Name']  # Assuming there's a 'First Name' column
        last_name = df_ref.iloc[0]['Last Name']    # Assuming there's a 'Last Name' column

        # Manager information
        manager_name = df_ref.iloc[0]['Manager 1 Name']  # Adjust the column name as needed
        manager_email = df_ref.iloc[0]['Manager 1 Email']  # Adjust the column name as needed

        # Set the file name
        file_name = f"Check-In Records from Clear Review 2023-24_{ref}.docx"

        # Add header with Employee and Manager information
        header_paragraph = doc.add_paragraph()
        
        # Employee line
        employee_run = header_paragraph.add_run(f"Employee: {first_name} {last_name} ({ref})")
        employee_run.bold = True
        employee_run.font.size = Pt(16)  # Increase font size to 16
        employee_run.font.color.rgb = RGBColor(32, 56, 100)  # Dark blue color

        # New line for Manager
        header_paragraph.add_run("\n")

        # Manager line
        manager_run = header_paragraph.add_run(f"Manager: {manager_name} ({manager_email})")
        manager_run.bold = True
        
        # Add a line for spacing
        header_paragraph.add_run("\n")
        
        # Add a separator line
        separator_paragraph = doc.add_paragraph()
        separator_paragraph.add_run("-" * 100)
        
        # Add a blank line for spacing
        doc.add_paragraph("\n")

        # Iterate over each row in the filtered DataFrame
        for index, row in df_ref.iterrows():
            # Iterate over relevant columns and add details
            relevant_columns = [
                'Check-In Scheduled Date', 'Action/Comment', 'Action Owner/Comment By',
                'Action/Comment Time', 'Action/Comment Text'
            ]

            for column in relevant_columns:
                # Skip if the column is not in the DataFrame
                if column not in df_ref.columns:
                    continue

                # Format date fields with time
                if 'Date' in column:
                    value = format_date_with_time(row[column])
                elif 'Time' in column:
                    value = format_time(row[column])
                elif column == 'Action/Comment Text':
                    value = remove_numbering(row[column])  # Remove numbering from Action/Comment Text
                else:
                    value = row[column]

                # Add column name in bold and value in normal font
                paragraph = doc.add_paragraph()
                column_run = paragraph.add_run(f"{column}: ")
                column_run.bold = True
                column_run.font.size = Pt(11)
                
                # Add the original value without modification
                value_run = paragraph.add_run(str(value))
                value_run.font.size = Pt(11)

            # Add a separator line for clarity between different records
            doc.add_paragraph("-" * 100)

            # Add a blank line for spacing between records
            

        # Save the Word document
        doc_path = os.path.join(output_dir, file_name)
        doc.save(doc_path)
        print(f"Saved Word: {doc_path}")

    else:
        print(f"Skipped Reference Number: {ref} due to both 'Check-In Comments' and 'Check-In Actions' being zero.")
        # Record the skipped reference number
        skipped_refs.append(ref)

# Save skipped reference numbers to a text file
skipped_refs_file = os.path.join(output_dir, "skipped_references.txt")
with open(skipped_refs_file, 'w') as f:
    for ref in skipped_refs:
        f.write(f"{ref}\n")
print(f"Skipped references saved to: {skipped_refs_file}")
